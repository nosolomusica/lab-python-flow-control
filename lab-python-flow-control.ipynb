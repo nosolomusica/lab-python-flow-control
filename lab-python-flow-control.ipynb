{
 "cells": [
  {
   "cell_type": "markdown",
   "id": "d3bfc191-8885-42ee-b0a0-bbab867c6f9f",
   "metadata": {
    "tags": []
   },
   "source": [
    "# Lab | Flow Control"
   ]
  },
  {
   "cell_type": "markdown",
   "id": "3851fcd1-cf98-4653-9c89-e003b7ec9400",
   "metadata": {},
   "source": [
    "## Exercise: Managing Customer Orders Optimized\n",
    "\n",
    "In the last lab, you were starting an online store that sells various products. To ensure smooth operations, you developed a program that manages customer orders and inventory.\n",
    "\n",
    "You did so without using flow control. Let's go a step further and improve this code.\n",
    "\n",
    "Follow the steps below to complete the exercise:\n",
    "\n",
    "1. Look at your code from the lab data structures, and improve repeated code with loops.\n",
    "\n",
    "2. Instead of asking the user to input the name of three products that a customer wants to order, do the following:\n",
    "    \n",
    "    a. Prompt the user to enter the name of a product that a customer wants to order.\n",
    "    \n",
    "    b. Add the product name to the \"customer_orders\" set.\n",
    "\n",
    "\n",
    "    \n",
    "    c. Ask the user if they want to add another product (yes/no).\n",
    "    \n",
    "    d. Continue the loop until the user does not want to add another product.\n",
    "\n",
    "4. Instead of updating the inventory by subtracting 1 from the quantity of each product, only do it for  the products that were ordered (those in \"customer_orders\")."
   ]
  },
  {
   "cell_type": "code",
   "execution_count": 5,
   "id": "09a46d2b-0695-414c-bdcc-b7072fd73108",
   "metadata": {},
   "outputs": [
    {
     "name": "stdin",
     "output_type": "stream",
     "text": [
      "Por favor introduce un producto ['t-shirt', 'mug', 'hat', 'book', 'keychain'] 1\n"
     ]
    },
    {
     "name": "stdout",
     "output_type": "stream",
     "text": [
      "{'t-shirt': 1}\n"
     ]
    },
    {
     "name": "stdin",
     "output_type": "stream",
     "text": [
      "Por favor introduce un producto ['t-shirt', 'mug', 'hat', 'book', 'keychain'] 3\n"
     ]
    },
    {
     "name": "stdout",
     "output_type": "stream",
     "text": [
      "{'t-shirt': 1, 'mug': 3}\n"
     ]
    },
    {
     "name": "stdin",
     "output_type": "stream",
     "text": [
      "Por favor introduce un producto ['t-shirt', 'mug', 'hat', 'book', 'keychain'] 4\n"
     ]
    },
    {
     "name": "stdout",
     "output_type": "stream",
     "text": [
      "{'t-shirt': 1, 'mug': 3, 'hat': 4}\n"
     ]
    },
    {
     "name": "stdin",
     "output_type": "stream",
     "text": [
      "Por favor introduce un producto ['t-shirt', 'mug', 'hat', 'book', 'keychain'] 7\n"
     ]
    },
    {
     "name": "stdout",
     "output_type": "stream",
     "text": [
      "{'t-shirt': 1, 'mug': 3, 'hat': 4, 'book': 7}\n"
     ]
    },
    {
     "name": "stdin",
     "output_type": "stream",
     "text": [
      "Por favor introduce un producto ['t-shirt', 'mug', 'hat', 'book', 'keychain'] 4\n"
     ]
    },
    {
     "name": "stdout",
     "output_type": "stream",
     "text": [
      "{'t-shirt': 1, 'mug': 3, 'hat': 4, 'book': 7, 'keychain': 4}\n"
     ]
    }
   ],
   "source": [
    "# 1\n",
    "products = [\"t-shirt\", \"mug\", \"hat\", \"book\", \"keychain\"]\n",
    "inventory= {}\n",
    "for product in products:\n",
    "    inventory[product]=int(input(f'Por favor introduce un producto {products}'))\n",
    "    print(inventory)\n",
    "customer_orders= set()"
   ]
  },
  {
   "cell_type": "code",
   "execution_count": 7,
   "id": "d421b55b-2f4e-48ab-8fa3-c583bec9d99c",
   "metadata": {},
   "outputs": [
    {
     "name": "stdin",
     "output_type": "stream",
     "text": [
      "Por favor, ingrese el nombre de un producto que desee: mug\n",
      "¿Quieres continuar comprando? Responde si/no: si\n",
      "Por favor, ingrese el nombre de un producto que desee: hat\n",
      "Quiere continuar comprando? Responde si/no: no\n"
     ]
    },
    {
     "name": "stdout",
     "output_type": "stream",
     "text": [
      "Gracias por su compra\n"
     ]
    }
   ],
   "source": [
    "#2\n",
    "producto_deseado=input(\"Por favor, ingrese el nombre de un producto que desee:\")\n",
    "customer_orders.add(producto_deseado)\n",
    "respuesta = input('¿Quieres continuar comprando? Responde si/no:')\n",
    "\n",
    "while respuesta.lower() == 'si':\n",
    "    producto_deseado=input(\"Por favor, ingrese el nombre de un producto que desee:\")\n",
    "    customer_orders.add(producto_deseado)\n",
    "    respuesta=input('Quiere continuar comprando? Responde si/no:').lower()\n",
    "    \n",
    "print('Gracias por su compra')"
   ]
  },
  {
   "cell_type": "code",
   "execution_count": 9,
   "id": "d09fe9f7-b579-4b56-b33b-28dac9362264",
   "metadata": {},
   "outputs": [
    {
     "data": {
      "text/plain": [
       "{'hat', 'mug'}"
      ]
     },
     "execution_count": 9,
     "metadata": {},
     "output_type": "execute_result"
    }
   ],
   "source": [
    "customer_orders\n"
   ]
  },
  {
   "cell_type": "code",
   "execution_count": 11,
   "id": "d59d6e6c-11c5-4426-ba2b-5cda76060cb8",
   "metadata": {},
   "outputs": [
    {
     "data": {
      "text/plain": [
       "set"
      ]
     },
     "execution_count": 11,
     "metadata": {},
     "output_type": "execute_result"
    }
   ],
   "source": [
    "type(customer_orders)"
   ]
  },
  {
   "cell_type": "code",
   "execution_count": 13,
   "id": "14f671fb-14eb-479f-b9cd-4ea8c0719dc0",
   "metadata": {},
   "outputs": [],
   "source": [
    "for element in inventory.keys():\n",
    "    if element in customer_orders:\n",
    "        inventory[element]-= 1"
   ]
  },
  {
   "cell_type": "code",
   "execution_count": 15,
   "id": "65d91aac-342f-4631-8a4e-ed7b470f28d0",
   "metadata": {},
   "outputs": [
    {
     "data": {
      "text/plain": [
       "{'t-shirt': 1, 'mug': 2, 'hat': 3, 'book': 7, 'keychain': 4}"
      ]
     },
     "execution_count": 15,
     "metadata": {},
     "output_type": "execute_result"
    }
   ],
   "source": [
    "inventory"
   ]
  },
  {
   "cell_type": "code",
   "execution_count": null,
   "id": "f2e1f120-7263-4cad-be50-4bf62a14a727",
   "metadata": {},
   "outputs": [],
   "source": []
  }
 ],
 "metadata": {
  "kernelspec": {
   "display_name": "Python 3 (ipykernel)",
   "language": "python",
   "name": "python3"
  },
  "language_info": {
   "codemirror_mode": {
    "name": "ipython",
    "version": 3
   },
   "file_extension": ".py",
   "mimetype": "text/x-python",
   "name": "python",
   "nbconvert_exporter": "python",
   "pygments_lexer": "ipython3",
   "version": "3.12.4"
  }
 },
 "nbformat": 4,
 "nbformat_minor": 5
}
